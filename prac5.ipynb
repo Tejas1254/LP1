{
 "cells": [
  {
   "cell_type": "code",
   "execution_count": null,
   "id": "3dfcc7ab-b5c1-4887-a5cc-4190238f7cb4",
   "metadata": {},
   "outputs": [],
   "source": [
    "#this code is not tested"
   ]
  },
  {
   "cell_type": "code",
   "execution_count": null,
   "id": "58d0d3b5-a7e5-4bc1-b8b2-821f3b676292",
   "metadata": {},
   "outputs": [],
   "source": [
    "!pip install keras tensorflow -U"
   ]
  },
  {
   "cell_type": "code",
   "execution_count": 6,
   "id": "9fd5be2a-330c-4118-8430-0ddc9688b21d",
   "metadata": {},
   "outputs": [],
   "source": [
    "import numpy as np"
   ]
  },
  {
   "cell_type": "code",
   "execution_count": 12,
   "id": "27494029-5ac1-4041-a311-37ae9cb3e94d",
   "metadata": {},
   "outputs": [],
   "source": [
    "df = np.loadtxt(\"https://raw.githubusercontent.com/jbrownlee/Datasets/master/pima-indians-diabetes.data.csv\", delimiter = ',')"
   ]
  },
  {
   "cell_type": "code",
   "execution_count": 13,
   "id": "b2c72dce-ef2a-44bb-94f7-fd8bbafb19ce",
   "metadata": {},
   "outputs": [
    {
     "data": {
      "text/plain": [
       "array([[  6.   , 148.   ,  72.   , ...,   0.627,  50.   ,   1.   ],\n",
       "       [  1.   ,  85.   ,  66.   , ...,   0.351,  31.   ,   0.   ],\n",
       "       [  8.   , 183.   ,  64.   , ...,   0.672,  32.   ,   1.   ],\n",
       "       ...,\n",
       "       [  5.   , 121.   ,  72.   , ...,   0.245,  30.   ,   0.   ],\n",
       "       [  1.   , 126.   ,  60.   , ...,   0.349,  47.   ,   1.   ],\n",
       "       [  1.   ,  93.   ,  70.   , ...,   0.315,  23.   ,   0.   ]])"
      ]
     },
     "execution_count": 13,
     "metadata": {},
     "output_type": "execute_result"
    }
   ],
   "source": [
    "df"
   ]
  },
  {
   "cell_type": "code",
   "execution_count": 16,
   "id": "e2e1b9d6-33df-4bf1-9b04-b6ed54ed1e2c",
   "metadata": {},
   "outputs": [],
   "source": [
    "x = df[:,:8]\n",
    "y=df[:,8]"
   ]
  },
  {
   "cell_type": "code",
   "execution_count": null,
   "id": "56157c52-ebc5-45c9-8d62-42ba02d8ea5c",
   "metadata": {},
   "outputs": [],
   "source": [
    "from tensorflow.keras.models import Sequential\n",
    "from tensorflow.keras.models import Dense"
   ]
  },
  {
   "cell_type": "code",
   "execution_count": null,
   "id": "d8421f8a-041f-4992-9097-fa5c6a6f0414",
   "metadata": {},
   "outputs": [],
   "source": [
    "model = Sequential()"
   ]
  },
  {
   "cell_type": "code",
   "execution_count": null,
   "id": "37053cec-3ada-44b2-8150-03ae4d3781a5",
   "metadata": {},
   "outputs": [],
   "source": [
    "#input layer\n",
    "model.add(Dense(12,input_dim=8,activation='relu))\n",
    "\n",
    "#hidden layer\n",
    "model.add(Dense(8,activation='relu'))\n",
    "model.add(Dense(8,activation='relu'))\n",
    "\n",
    "#output layer\n",
    "model.add(Dense(1,activation='Sigmoid'))\n",
    "                \n",
    "                "
   ]
  },
  {
   "cell_type": "code",
   "execution_count": null,
   "id": "1487688d-c544-4b64-9f35-cedee2b57742",
   "metadata": {},
   "outputs": [],
   "source": [
    "model.compile(loss='binary_crossentropy',optimizer='adam',metrics=['accuracy'])"
   ]
  },
  {
   "cell_type": "code",
   "execution_count": null,
   "id": "6c38dfb3-ec6f-41e8-80da-d089c1e8361c",
   "metadata": {},
   "outputs": [],
   "source": [
    "#training\n",
    "model.fit(x,y,epochs=100,batch_size=10)"
   ]
  },
  {
   "cell_type": "code",
   "execution_count": null,
   "id": "ae6f7521-f41c-4150-9508-c86b82be2790",
   "metadata": {},
   "outputs": [],
   "source": [
    "#evaluate\n",
    "model.evaluate(x,y)"
   ]
  }
 ],
 "metadata": {
  "kernelspec": {
   "display_name": "Python 3 (ipykernel)",
   "language": "python",
   "name": "python3"
  },
  "language_info": {
   "codemirror_mode": {
    "name": "ipython",
    "version": 3
   },
   "file_extension": ".py",
   "mimetype": "text/x-python",
   "name": "python",
   "nbconvert_exporter": "python",
   "pygments_lexer": "ipython3",
   "version": "3.11.7"
  }
 },
 "nbformat": 4,
 "nbformat_minor": 5
}
